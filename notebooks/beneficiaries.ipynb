{
 "cells": [
  {
   "cell_type": "code",
   "execution_count": 76,
   "source": [
    "import numpy as np\r\n",
    "import pandas as pd\r\n",
    "import json"
   ],
   "outputs": [],
   "metadata": {}
  },
  {
   "cell_type": "code",
   "execution_count": 77,
   "source": [
    "beneficiaries_df = pd.read_excel('Beneficiaries_Curated.xlsx')"
   ],
   "outputs": [],
   "metadata": {}
  },
  {
   "cell_type": "code",
   "execution_count": 78,
   "source": [
    "beneficiaries_df.columns = ['department','name','blurb','paragraph','picture_url','featured']"
   ],
   "outputs": [],
   "metadata": {}
  },
  {
   "cell_type": "code",
   "execution_count": 79,
   "source": [
    "output_filename = \"beneficiaries.json\"\r\n",
    "open(output_filename, \"w\").write(beneficiaries_df.to_json(indent=2,orient='records'))"
   ],
   "outputs": [
    {
     "output_type": "execute_result",
     "data": {
      "text/plain": [
       "10186"
      ]
     },
     "metadata": {},
     "execution_count": 79
    }
   ],
   "metadata": {}
  }
 ],
 "metadata": {
  "orig_nbformat": 4,
  "language_info": {
   "name": "python",
   "version": "3.7.1",
   "mimetype": "text/x-python",
   "codemirror_mode": {
    "name": "ipython",
    "version": 3
   },
   "pygments_lexer": "ipython3",
   "nbconvert_exporter": "python",
   "file_extension": ".py"
  },
  "kernelspec": {
   "name": "python3",
   "display_name": "Python 3.7.1 64-bit ('data': conda)"
  },
  "interpreter": {
   "hash": "0d77840c0591eb591aa8da794a619b18d58c348d6e645b713534029512ce3981"
  }
 },
 "nbformat": 4,
 "nbformat_minor": 2
}